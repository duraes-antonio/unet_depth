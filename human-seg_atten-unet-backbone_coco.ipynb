{
 "cells": [
  {
   "cell_type": "markdown",
   "metadata": {
    "pycharm": {
     "name": "#%% md\n"
    }
   },
   "source": [
    "# Example: Human segmentation with attention U-net and transfer learning from ImageNet-trained VGG16 model"
   ]
  },
  {
   "cell_type": "code",
   "execution_count": 7,
   "metadata": {
    "pycharm": {
     "name": "#%%\n"
    }
   },
   "outputs": [],
   "source": [
    "from glob import glob\n",
    "\n",
    "import numpy as np\n",
    "from keras_unet_collection import models, utils\n",
    "from tensorflow import keras"
   ]
  },
  {
   "cell_type": "code",
   "execution_count": 14,
   "metadata": {
    "pycharm": {
     "name": "#%%\n"
    }
   },
   "outputs": [],
   "source": [
    "\n",
    "\n",
    "train_path = 'C:\\\\Users\\\\AEVO\\\\Desktop\\\\subset\\\\train\\\\'\n",
    "val_path = 'C:\\\\Users\\\\AEVO\\\\Desktop\\\\subset\\\\val\\\\'"
   ]
  },
  {
   "cell_type": "code",
   "execution_count": 15,
   "metadata": {
    "pycharm": {
     "name": "#%%\n"
    }
   },
   "outputs": [],
   "source": [
    "# file path after data extraction\n",
    "path_train_img = train_path\n",
    "path_train_mask = train_path\n",
    "\n",
    "path_test_img = val_path\n",
    "path_test_mask = val_path"
   ]
  },
  {
   "cell_type": "markdown",
   "metadata": {
    "pycharm": {
     "name": "#%% md\n"
    }
   },
   "source": [
    "### Subsetting human samples\n",
    "\n",
    "For obtaining a better focus of the segmentation target, human samples are subsetted from COCO.\n",
    "\n",
    "The selection criteria is that after resizing to 128-by-128, human samples should have more than 33% of its 64-by-64 central pixels belong to the human/person category.\n",
    "\n",
    "As a binary segmentation problem, non-human COCO-stuff labels are grouped and labelled as \"background\". Accessory categories (e.g., ties) are also grouped into the background.\n",
    "\n",
    "**Note**: sample subsetting code cells are time-consuming."
   ]
  },
  {
   "cell_type": "code",
   "execution_count": 7,
   "metadata": {
    "pycharm": {
     "name": "#%%\n"
    }
   },
   "outputs": [],
   "source": [
    "def split_human_samples(label_filenames, human_id=0, human_rate=1 / 3):\n",
    "    '''\n",
    "    Subsetting samples that contain \"person/human\" category from the COCO dataset\n",
    "    ----------\n",
    "    human_id = 0 : COCO stuffthingmaps label human as int 0\n",
    "    human_rate = 1/3: at least 33% of the pixels should belong to human.\n",
    "    ----------\n",
    "    '''\n",
    "    thres = int(64 * 64 * human_rate)  # pixel number thres after resizing\n",
    "    L = len(label_filenames)\n",
    "    flag = []  # return a list of booleans\n",
    "\n",
    "    for i in range(L):\n",
    "        sample_ = utils.image_to_array([label_filenames[i]], size=128, channel=1)\n",
    "        if np.sum(sample_[0, 32:-32, 32:-32, 0] == human_id) > thres:\n",
    "            flag.append(True)\n",
    "        else:\n",
    "            flag.append(False)\n",
    "\n",
    "    return flag"
   ]
  },
  {
   "cell_type": "code",
   "execution_count": 16,
   "outputs": [
    {
     "data": {
      "text/plain": "'C:\\\\Users\\\\AEVO\\\\Desktop\\\\subset\\\\train\\\\'"
     },
     "execution_count": 16,
     "metadata": {},
     "output_type": "execute_result"
    }
   ],
   "source": [
    "path_train_img"
   ],
   "metadata": {
    "collapsed": false,
    "pycharm": {
     "name": "#%%\n"
    }
   }
  },
  {
   "cell_type": "code",
   "execution_count": 17,
   "metadata": {
    "pycharm": {
     "name": "#%%\n"
    }
   },
   "outputs": [],
   "source": [
    "trainval_input_names = np.array(sorted(glob(path_train_img + '*.jpg')))\n",
    "trainval_label_names = np.array(sorted(glob(path_train_img + '*.png')))"
   ]
  },
  {
   "cell_type": "code",
   "execution_count": 18,
   "metadata": {
    "pycharm": {
     "name": "#%%\n"
    }
   },
   "outputs": [],
   "source": [
    "test_input_names = np.array(sorted(glob(path_test_img + '*.jpg')))\n",
    "test_label_names = np.array(sorted(glob(path_test_mask + '*.png')))"
   ]
  },
  {
   "cell_type": "markdown",
   "metadata": {
    "pycharm": {
     "name": "#%% md\n"
    }
   },
   "source": [
    "### Training-validation data split\n",
    "\n",
    "The COCO validation samples are treated as testing sets.\n",
    "\n",
    "The validation data of this example is split form the COCO training samples."
   ]
  },
  {
   "cell_type": "code",
   "execution_count": 19,
   "outputs": [
    {
     "data": {
      "text/plain": "621"
     },
     "execution_count": 19,
     "metadata": {},
     "output_type": "execute_result"
    }
   ],
   "source": [
    "len(trainval_input_names)"
   ],
   "metadata": {
    "collapsed": false,
    "pycharm": {
     "name": "#%%\n"
    }
   }
  },
  {
   "cell_type": "code",
   "execution_count": 22,
   "metadata": {
    "pycharm": {
     "name": "#%%\n"
    }
   },
   "outputs": [
    {
     "name": "stdout",
     "output_type": "stream",
     "text": [
      "Training:validation:testing = 558:63:400\n"
     ]
    },
    {
     "data": {
      "text/plain": "('C:\\\\Users\\\\AEVO\\\\Desktop\\\\subset\\\\train\\\\121.jpg',\n 'C:\\\\Users\\\\AEVO\\\\Desktop\\\\subset\\\\train\\\\121.png')"
     },
     "execution_count": 22,
     "metadata": {},
     "output_type": "execute_result"
    }
   ],
   "source": [
    "L = len(trainval_input_names)\n",
    "ind_all = utils.shuffle_ind(L)\n",
    "\n",
    "L_train = int(0.9 * L);\n",
    "L_valid = L - L_train\n",
    "ind_train = ind_all[:L_train];\n",
    "ind_valid = ind_all[L_train:]\n",
    "\n",
    "train_input_names = trainval_input_names[ind_train]\n",
    "train_label_names = trainval_label_names[ind_train]\n",
    "valid_input_names = trainval_input_names[ind_valid]\n",
    "valid_label_names = trainval_label_names[ind_valid]\n",
    "\n",
    "print(\"Training:validation:testing = {}:{}:{}\".format(L_train, L_valid, len(test_label_names)))"
   ]
  },
  {
   "cell_type": "markdown",
   "metadata": {
    "pycharm": {
     "name": "#%% md\n"
    }
   },
   "source": [
    "### Exploratory data analysis"
   ]
  },
  {
   "cell_type": "code",
   "execution_count": 24,
   "metadata": {
    "pycharm": {
     "name": "#%%\n"
    }
   },
   "outputs": [],
   "source": [
    "import matplotlib.pyplot as plt\n",
    "\n",
    "\n",
    "def ax_decorate_box(ax):\n",
    "    [j.set_linewidth(0) for j in ax.spines.values()]\n",
    "    ax.tick_params(axis=\"both\", which=\"both\", bottom=False, top=False, labelbottom=False, left=False, right=False,\n",
    "                   labelleft=False)\n",
    "    return ax"
   ]
  },
  {
   "cell_type": "code",
   "execution_count": 25,
   "metadata": {
    "pycharm": {
     "name": "#%%\n"
    }
   },
   "outputs": [],
   "source": [
    "i_max = 10  # explore 10 images\n",
    "input_example = utils.image_to_array(train_input_names[:i_max], size=128, channel=3)\n",
    "label_example = utils.image_to_array(train_label_names[:i_max], size=128, channel=1)"
   ]
  },
  {
   "cell_type": "code",
   "execution_count": 28,
   "metadata": {
    "pycharm": {
     "name": "#%%\n"
    }
   },
   "outputs": [
    {
     "data": {
      "text/plain": "<Figure size 700x300 with 2 Axes>",
      "image/png": "[encoded data removed]"
     },
     "metadata": {},
     "output_type": "display_data"
    }
   ],
   "source": [
    "i_example = 2\n",
    "\n",
    "fig, AX = plt.subplots(1, 2, figsize=(7, 3))\n",
    "plt.subplots_adjust(0, 0, 1, 1, hspace=0, wspace=0.1)\n",
    "\n",
    "for ax in AX:\n",
    "    ax = ax_decorate_box(ax)\n",
    "\n",
    "AX[0].pcolormesh(np.mean(input_example[i_example, ...], axis=-1), cmap=plt.cm.gray)\n",
    "AX[1].pcolormesh(label_example[i_example, ..., 0] > 0, cmap=plt.cm.gray)\n",
    "AX[0].set_title(\"Original\", fontsize=14);\n",
    "AX[1].set_title(\"Segmentation mask\", fontsize=14);"
   ]
  },
  {
   "cell_type": "markdown",
   "metadata": {
    "pycharm": {
     "name": "#%% md\n"
    }
   },
   "source": [
    "## Attention U-net with an ImageNet-trained backbone\n",
    "\n",
    "Attention U-net is applied for this segmentation task. This architecture is modified from the conventionally used U-net by assigning attention gates on each upsampling level. \n",
    "\n",
    "Attention gates take upsampled (i.e., decoded) and downsampled (i.e., encoded) tensors as queries and keys, respectively. These queries and keys are mapped to intermediate channel sizes and fed into the additive attention learning. The resulting vector is rescaled by a sigmoid function and multiplied with the downsampled tensor (keys, but here treated as \"values\" of self-attention). The attention gate output replaces the downsampled tensor and is concatenated with the upsampled tensor.\n",
    "\n",
    "Based on the amount and complexity of COCO samples, ImageNet-trained VGG16 is applied as an encoder backbone. This transfer learning strategy is expected to improve the segmentation performance based on two reasons: \n",
    "\n",
    " * The ImageNet and COCO containts (somewhat) similar kinds of natural images with a high overlap of data distribution; \n",
    "\n",
    " * The VGG16 architecture is a combination of same-padding convolution and max-pooling kernels, capable of extracting hierarchical features that can be processed by attention gates (ResNet backbone contains zero padding layers and is suboptimal in this case).\n",
    "\n",
    "The code cell below configures the attention U-net with an ImageNet-trained VGG16 backbone. Hyper-parameters are explained through the Python helper function:\n",
    "\n",
    "```python\n",
    "from keras_unet_collection import models\n",
    "\n",
    "help(models.att_unet_2d)\n",
    "```"
   ]
  },
  {
   "cell_type": "code",
   "execution_count": 29,
   "metadata": {
    "pycharm": {
     "name": "#%%\n"
    }
   },
   "outputs": [
    {
     "name": "stderr",
     "output_type": "stream",
     "text": [
      "C:\\Users\\AEVO\\Desktop\\pessoal\\IFES\\dissertacao\\unet_depth\\venv\\lib\\site-packages\\keras_unet_collection\\_backbone_zoo.py:45: UserWarning: \n",
      "\n",
      "Backbone VGG16 does not use batch norm, but other layers received batch_norm=True\n",
      "  warnings.warn(param_mismatch);\n"
     ]
    },
    {
     "name": "stdout",
     "output_type": "stream",
     "text": [
      "Downloading data from https://storage.googleapis.com/tensorflow/keras-applications/vgg16/vgg16_weights_tf_dim_ordering_tf_kernels_notop.h5\n",
      "58889256/58889256 [==============================] - 2s 0us/step\n"
     ]
    }
   ],
   "source": [
    "model = models.att_unet_2d(\n",
    "    (128, 128, 3), filter_num=[64, 128, 256, 512, 1024], n_labels=1,\n",
    "    stack_num_down=2, stack_num_up=2, activation='ReLU',\n",
    "    atten_activation='ReLU', attention='add', output_activation='Sigmoid',\n",
    "    batch_norm=True, pool=False, unpool=False,\n",
    "    backbone='VGG16', weights='imagenet',\n",
    "    freeze_backbone=True, freeze_batch_norm=True,\n",
    "    name='attunet'\n",
    ")"
   ]
  },
  {
   "cell_type": "markdown",
   "metadata": {
    "pycharm": {
     "name": "#%% md\n"
    }
   },
   "source": [
    "The second layer of the configured model, i.e., right after an input layer, is expected to be the VGG16 backbone."
   ]
  },
  {
   "cell_type": "code",
   "execution_count": 30,
   "metadata": {
    "pycharm": {
     "name": "#%%\n"
    }
   },
   "outputs": [
    {
     "data": {
      "text/plain": "'VGG16_backbone'"
     },
     "execution_count": 30,
     "metadata": {},
     "output_type": "execute_result"
    }
   ],
   "source": [
    "model.layers[1].name"
   ]
  },
  {
   "cell_type": "markdown",
   "metadata": {
    "pycharm": {
     "name": "#%% md\n"
    }
   },
   "source": [
    "For simplicity, this segmentation model is trained with cross-entropy loss with SGD optimizer and a learning rate of 1E-2."
   ]
  },
  {
   "cell_type": "code",
   "execution_count": 31,
   "outputs": [],
   "source": [
    "import tensorflow as tf\n",
    "import tensorflow.keras.backend as K\n",
    "\n",
    "\n",
    "# custom loss\n",
    "def depth_loss(y_true, y_pred):\n",
    "    w1, w2, w3 = 1.0, 1.0, 0.1\n",
    "\n",
    "    l_depth = K.mean(K.abs(y_pred - y_true), axis=-1)\n",
    "\n",
    "    dy_true, dx_true = tf.image.image_gradients(y_true)\n",
    "    dy_pred, dx_pred = tf.image.image_gradients(y_pred)\n",
    "    l_edges = K.mean(K.abs(dy_pred - dy_true) + K.abs(dx_pred - dx_true), axis=-1)\n",
    "\n",
    "    l_ssim = K.clip((1 - tf.image.ssim(y_true, y_pred, 1.0)) * 0.5, 0, 1)\n",
    "\n",
    "    return (w1 * l_ssim) + (w2 * K.mean(l_edges)) + (w3 * K.mean(l_depth))\n",
    "\n",
    "\n",
    "#custom soft accuracy\n",
    "def depth_acc(y_true, y_pred):\n",
    "    return K.mean(K.equal(K.round(y_true), K.round(y_pred)))(loss=keras.losses.categorical_crossentropy,\n",
    "                                                             optimizer=keras.optimizers.SGD(lr=1e-2))"
   ],
   "metadata": {
    "collapsed": false,
    "pycharm": {
     "name": "#%%\n"
    }
   }
  },
  {
   "cell_type": "code",
   "execution_count": 33,
   "metadata": {
    "pycharm": {
     "name": "#%%\n"
    }
   },
   "outputs": [],
   "source": [
    "from tensorflow.keras.optimizers import Adam\n",
    "\n",
    "INIT_LR = 0.0001\n",
    "opt = Adam(learning_rate=INIT_LR, amsgrad=True)\n",
    "\n",
    "model.compile(loss=depth_loss, metrics=[depth_acc])"
   ]
  },
  {
   "cell_type": "code",
   "execution_count": 35,
   "outputs": [
    {
     "name": "stdout",
     "output_type": "stream",
     "text": [
      "Model: \"attunet_model\"\n",
      "__________________________________________________________________________________________________\n",
      " Layer (type)                   Output Shape         Param #     Connected to                     \n",
      "==================================================================================================\n",
      " input_1 (InputLayer)           [(None, 128, 128, 3  0           []                               \n",
      "                                )]                                                                \n",
      "                                                                                                  \n",
      " VGG16_backbone (Functional)    [(None, 128, 128, 6  14714688    ['input_1[0][0]']                \n",
      "                                4),                                                               \n",
      "                                 (None, 64, 64, 128                                               \n",
      "                                ),                                                                \n",
      "                                 (None, 32, 32, 256                                               \n",
      "                                ),                                                                \n",
      "                                 (None, 16, 16, 512                                               \n",
      "                                ),                                                                \n",
      "                                 (None, 8, 8, 512)]                                               \n",
      "                                                                                                  \n",
      " attunet_up0_decode_trans_conv   (None, 16, 16, 512)  2359808    ['VGG16_backbone[0][4]']         \n",
      " (Conv2DTranspose)                                                                                \n",
      "                                                                                                  \n",
      " attunet_up0_decode_bn (BatchNo  (None, 16, 16, 512)  2048       ['attunet_up0_decode_trans_conv[0\n",
      " rmalization)                                                    ][0]']                           \n",
      "                                                                                                  \n",
      " attunet_up0_decode_activation   (None, 16, 16, 512)  0          ['attunet_up0_decode_bn[0][0]']  \n",
      " (ReLU)                                                                                           \n",
      "                                                                                                  \n",
      " attunet_up0_att_theta_x (Conv2  (None, 16, 16, 256)  131328     ['VGG16_backbone[0][3]']         \n",
      " D)                                                                                               \n",
      "                                                                                                  \n",
      " attunet_up0_att_phi_g (Conv2D)  (None, 16, 16, 256)  131328     ['attunet_up0_decode_activation[0\n",
      "                                                                 ][0]']                           \n",
      "                                                                                                  \n",
      " attunet_up0_att_add (Add)      (None, 16, 16, 256)  0           ['attunet_up0_att_theta_x[0][0]',\n",
      "                                                                  'attunet_up0_att_phi_g[0][0]']  \n",
      "                                                                                                  \n",
      " attunet_up0_att_activation (Re  (None, 16, 16, 256)  0          ['attunet_up0_att_add[0][0]']    \n",
      " LU)                                                                                              \n",
      "                                                                                                  \n",
      " attunet_up0_att_psi_f (Conv2D)  (None, 16, 16, 1)   257         ['attunet_up0_att_activation[0][0\n",
      "                                                                 ]']                              \n",
      "                                                                                                  \n",
      " attunet_up0_att_sigmoid (Activ  (None, 16, 16, 1)   0           ['attunet_up0_att_psi_f[0][0]']  \n",
      " ation)                                                                                           \n",
      "                                                                                                  \n",
      " attunet_up0_att_masking (Multi  (None, 16, 16, 512)  0          ['VGG16_backbone[0][3]',         \n",
      " ply)                                                             'attunet_up0_att_sigmoid[0][0]']\n",
      "                                                                                                  \n",
      " attunet_up0_concat (Concatenat  (None, 16, 16, 1024  0          ['attunet_up0_decode_activation[0\n",
      " e)                             )                                ][0]',                           \n",
      "                                                                  'attunet_up0_att_masking[0][0]']\n",
      "                                                                                                  \n",
      " attunet_up0_conv_after_concat_  (None, 16, 16, 512)  4718592    ['attunet_up0_concat[0][0]']     \n",
      " 0 (Conv2D)                                                                                       \n",
      "                                                                                                  \n",
      " attunet_up0_conv_after_concat_  (None, 16, 16, 512)  2048       ['attunet_up0_conv_after_concat_0\n",
      " 0_bn (BatchNormalization)                                       [0][0]']                         \n",
      "                                                                                                  \n",
      " attunet_up0_conv_after_concat_  (None, 16, 16, 512)  0          ['attunet_up0_conv_after_concat_0\n",
      " 0_activation (ReLU)                                             _bn[0][0]']                      \n",
      "                                                                                                  \n",
      " attunet_up0_conv_after_concat_  (None, 16, 16, 512)  2359296    ['attunet_up0_conv_after_concat_0\n",
      " 1 (Conv2D)                                                      _activation[0][0]']              \n",
      "                                                                                                  \n",
      " attunet_up0_conv_after_concat_  (None, 16, 16, 512)  2048       ['attunet_up0_conv_after_concat_1\n",
      " 1_bn (BatchNormalization)                                       [0][0]']                         \n",
      "                                                                                                  \n",
      " attunet_up0_conv_after_concat_  (None, 16, 16, 512)  0          ['attunet_up0_conv_after_concat_1\n",
      " 1_activation (ReLU)                                             _bn[0][0]']                      \n",
      "                                                                                                  \n",
      " attunet_up1_decode_trans_conv   (None, 32, 32, 256)  1179904    ['attunet_up0_conv_after_concat_1\n",
      " (Conv2DTranspose)                                               _activation[0][0]']              \n",
      "                                                                                                  \n",
      " attunet_up1_decode_bn (BatchNo  (None, 32, 32, 256)  1024       ['attunet_up1_decode_trans_conv[0\n",
      " rmalization)                                                    ][0]']                           \n",
      "                                                                                                  \n",
      " attunet_up1_decode_activation   (None, 32, 32, 256)  0          ['attunet_up1_decode_bn[0][0]']  \n",
      " (ReLU)                                                                                           \n",
      "                                                                                                  \n",
      " attunet_up1_att_theta_x (Conv2  (None, 32, 32, 128)  32896      ['VGG16_backbone[0][2]']         \n",
      " D)                                                                                               \n",
      "                                                                                                  \n",
      " attunet_up1_att_phi_g (Conv2D)  (None, 32, 32, 128)  32896      ['attunet_up1_decode_activation[0\n",
      "                                                                 ][0]']                           \n",
      "                                                                                                  \n",
      " attunet_up1_att_add (Add)      (None, 32, 32, 128)  0           ['attunet_up1_att_theta_x[0][0]',\n",
      "                                                                  'attunet_up1_att_phi_g[0][0]']  \n",
      "                                                                                                  \n",
      " attunet_up1_att_activation (Re  (None, 32, 32, 128)  0          ['attunet_up1_att_add[0][0]']    \n",
      " LU)                                                                                              \n",
      "                                                                                                  \n",
      " attunet_up1_att_psi_f (Conv2D)  (None, 32, 32, 1)   129         ['attunet_up1_att_activation[0][0\n",
      "                                                                 ]']                              \n",
      "                                                                                                  \n",
      " attunet_up1_att_sigmoid (Activ  (None, 32, 32, 1)   0           ['attunet_up1_att_psi_f[0][0]']  \n",
      " ation)                                                                                           \n",
      "                                                                                                  \n",
      " attunet_up1_att_masking (Multi  (None, 32, 32, 256)  0          ['VGG16_backbone[0][2]',         \n",
      " ply)                                                             'attunet_up1_att_sigmoid[0][0]']\n",
      "                                                                                                  \n",
      " attunet_up1_concat (Concatenat  (None, 32, 32, 512)  0          ['attunet_up1_decode_activation[0\n",
      " e)                                                              ][0]',                           \n",
      "                                                                  'attunet_up1_att_masking[0][0]']\n",
      "                                                                                                  \n",
      " attunet_up1_conv_after_concat_  (None, 32, 32, 256)  1179648    ['attunet_up1_concat[0][0]']     \n",
      " 0 (Conv2D)                                                                                       \n",
      "                                                                                                  \n",
      " attunet_up1_conv_after_concat_  (None, 32, 32, 256)  1024       ['attunet_up1_conv_after_concat_0\n",
      " 0_bn (BatchNormalization)                                       [0][0]']                         \n",
      "                                                                                                  \n",
      " attunet_up1_conv_after_concat_  (None, 32, 32, 256)  0          ['attunet_up1_conv_after_concat_0\n",
      " 0_activation (ReLU)                                             _bn[0][0]']                      \n",
      "                                                                                                  \n",
      " attunet_up1_conv_after_concat_  (None, 32, 32, 256)  589824     ['attunet_up1_conv_after_concat_0\n",
      " 1 (Conv2D)                                                      _activation[0][0]']              \n",
      "                                                                                                  \n",
      " attunet_up1_conv_after_concat_  (None, 32, 32, 256)  1024       ['attunet_up1_conv_after_concat_1\n",
      " 1_bn (BatchNormalization)                                       [0][0]']                         \n",
      "                                                                                                  \n",
      " attunet_up1_conv_after_concat_  (None, 32, 32, 256)  0          ['attunet_up1_conv_after_concat_1\n",
      " 1_activation (ReLU)                                             _bn[0][0]']                      \n",
      "                                                                                                  \n",
      " attunet_up2_decode_trans_conv   (None, 64, 64, 128)  295040     ['attunet_up1_conv_after_concat_1\n",
      " (Conv2DTranspose)                                               _activation[0][0]']              \n",
      "                                                                                                  \n",
      " attunet_up2_decode_bn (BatchNo  (None, 64, 64, 128)  512        ['attunet_up2_decode_trans_conv[0\n",
      " rmalization)                                                    ][0]']                           \n",
      "                                                                                                  \n",
      " attunet_up2_decode_activation   (None, 64, 64, 128)  0          ['attunet_up2_decode_bn[0][0]']  \n",
      " (ReLU)                                                                                           \n",
      "                                                                                                  \n",
      " attunet_up2_att_theta_x (Conv2  (None, 64, 64, 64)  8256        ['VGG16_backbone[0][1]']         \n",
      " D)                                                                                               \n",
      "                                                                                                  \n",
      " attunet_up2_att_phi_g (Conv2D)  (None, 64, 64, 64)  8256        ['attunet_up2_decode_activation[0\n",
      "                                                                 ][0]']                           \n",
      "                                                                                                  \n",
      " attunet_up2_att_add (Add)      (None, 64, 64, 64)   0           ['attunet_up2_att_theta_x[0][0]',\n",
      "                                                                  'attunet_up2_att_phi_g[0][0]']  \n",
      "                                                                                                  \n",
      " attunet_up2_att_activation (Re  (None, 64, 64, 64)  0           ['attunet_up2_att_add[0][0]']    \n",
      " LU)                                                                                              \n",
      "                                                                                                  \n",
      " attunet_up2_att_psi_f (Conv2D)  (None, 64, 64, 1)   65          ['attunet_up2_att_activation[0][0\n",
      "                                                                 ]']                              \n",
      "                                                                                                  \n",
      " attunet_up2_att_sigmoid (Activ  (None, 64, 64, 1)   0           ['attunet_up2_att_psi_f[0][0]']  \n",
      " ation)                                                                                           \n",
      "                                                                                                  \n",
      " attunet_up2_att_masking (Multi  (None, 64, 64, 128)  0          ['VGG16_backbone[0][1]',         \n",
      " ply)                                                             'attunet_up2_att_sigmoid[0][0]']\n",
      "                                                                                                  \n",
      " attunet_up2_concat (Concatenat  (None, 64, 64, 256)  0          ['attunet_up2_decode_activation[0\n",
      " e)                                                              ][0]',                           \n",
      "                                                                  'attunet_up2_att_masking[0][0]']\n",
      "                                                                                                  \n",
      " attunet_up2_conv_after_concat_  (None, 64, 64, 128)  294912     ['attunet_up2_concat[0][0]']     \n",
      " 0 (Conv2D)                                                                                       \n",
      "                                                                                                  \n",
      " attunet_up2_conv_after_concat_  (None, 64, 64, 128)  512        ['attunet_up2_conv_after_concat_0\n",
      " 0_bn (BatchNormalization)                                       [0][0]']                         \n",
      "                                                                                                  \n",
      " attunet_up2_conv_after_concat_  (None, 64, 64, 128)  0          ['attunet_up2_conv_after_concat_0\n",
      " 0_activation (ReLU)                                             _bn[0][0]']                      \n",
      "                                                                                                  \n",
      " attunet_up2_conv_after_concat_  (None, 64, 64, 128)  147456     ['attunet_up2_conv_after_concat_0\n",
      " 1 (Conv2D)                                                      _activation[0][0]']              \n",
      "                                                                                                  \n",
      " attunet_up2_conv_after_concat_  (None, 64, 64, 128)  512        ['attunet_up2_conv_after_concat_1\n",
      " 1_bn (BatchNormalization)                                       [0][0]']                         \n",
      "                                                                                                  \n",
      " attunet_up2_conv_after_concat_  (None, 64, 64, 128)  0          ['attunet_up2_conv_after_concat_1\n",
      " 1_activation (ReLU)                                             _bn[0][0]']                      \n",
      "                                                                                                  \n",
      " attunet_up3_decode_trans_conv   (None, 128, 128, 64  73792      ['attunet_up2_conv_after_concat_1\n",
      " (Conv2DTranspose)              )                                _activation[0][0]']              \n",
      "                                                                                                  \n",
      " attunet_up3_decode_bn (BatchNo  (None, 128, 128, 64  256        ['attunet_up3_decode_trans_conv[0\n",
      " rmalization)                   )                                ][0]']                           \n",
      "                                                                                                  \n",
      " attunet_up3_decode_activation   (None, 128, 128, 64  0          ['attunet_up3_decode_bn[0][0]']  \n",
      " (ReLU)                         )                                                                 \n",
      "                                                                                                  \n",
      " attunet_up3_att_theta_x (Conv2  (None, 128, 128, 32  2080       ['VGG16_backbone[0][0]']         \n",
      " D)                             )                                                                 \n",
      "                                                                                                  \n",
      " attunet_up3_att_phi_g (Conv2D)  (None, 128, 128, 32  2080       ['attunet_up3_decode_activation[0\n",
      "                                )                                ][0]']                           \n",
      "                                                                                                  \n",
      " attunet_up3_att_add (Add)      (None, 128, 128, 32  0           ['attunet_up3_att_theta_x[0][0]',\n",
      "                                )                                 'attunet_up3_att_phi_g[0][0]']  \n",
      "                                                                                                  \n",
      " attunet_up3_att_activation (Re  (None, 128, 128, 32  0          ['attunet_up3_att_add[0][0]']    \n",
      " LU)                            )                                                                 \n",
      "                                                                                                  \n",
      " attunet_up3_att_psi_f (Conv2D)  (None, 128, 128, 1)  33         ['attunet_up3_att_activation[0][0\n",
      "                                                                 ]']                              \n",
      "                                                                                                  \n",
      " attunet_up3_att_sigmoid (Activ  (None, 128, 128, 1)  0          ['attunet_up3_att_psi_f[0][0]']  \n",
      " ation)                                                                                           \n",
      "                                                                                                  \n",
      " attunet_up3_att_masking (Multi  (None, 128, 128, 64  0          ['VGG16_backbone[0][0]',         \n",
      " ply)                           )                                 'attunet_up3_att_sigmoid[0][0]']\n",
      "                                                                                                  \n",
      " attunet_up3_concat (Concatenat  (None, 128, 128, 12  0          ['attunet_up3_decode_activation[0\n",
      " e)                             8)                               ][0]',                           \n",
      "                                                                  'attunet_up3_att_masking[0][0]']\n",
      "                                                                                                  \n",
      " attunet_up3_conv_after_concat_  (None, 128, 128, 64  73728      ['attunet_up3_concat[0][0]']     \n",
      " 0 (Conv2D)                     )                                                                 \n",
      "                                                                                                  \n",
      " attunet_up3_conv_after_concat_  (None, 128, 128, 64  256        ['attunet_up3_conv_after_concat_0\n",
      " 0_bn (BatchNormalization)      )                                [0][0]']                         \n",
      "                                                                                                  \n",
      " attunet_up3_conv_after_concat_  (None, 128, 128, 64  0          ['attunet_up3_conv_after_concat_0\n",
      " 0_activation (ReLU)            )                                _bn[0][0]']                      \n",
      "                                                                                                  \n",
      " attunet_up3_conv_after_concat_  (None, 128, 128, 64  36864      ['attunet_up3_conv_after_concat_0\n",
      " 1 (Conv2D)                     )                                _activation[0][0]']              \n",
      "                                                                                                  \n",
      " attunet_up3_conv_after_concat_  (None, 128, 128, 64  256        ['attunet_up3_conv_after_concat_1\n",
      " 1_bn (BatchNormalization)      )                                [0][0]']                         \n",
      "                                                                                                  \n",
      " attunet_up3_conv_after_concat_  (None, 128, 128, 64  0          ['attunet_up3_conv_after_concat_1\n",
      " 1_activation (ReLU)            )                                _bn[0][0]']                      \n",
      "                                                                                                  \n",
      " attunet_output (Conv2D)        (None, 128, 128, 1)  65          ['attunet_up3_conv_after_concat_1\n",
      "                                                                 _activation[0][0]']              \n",
      "                                                                                                  \n",
      " attunet_output_activation (Act  (None, 128, 128, 1)  0          ['attunet_output[0][0]']         \n",
      " ivation)                                                                                         \n",
      "                                                                                                  \n",
      "==================================================================================================\n",
      "Total params: 28,384,741\n",
      "Trainable params: 13,664,293\n",
      "Non-trainable params: 14,720,448\n",
      "__________________________________________________________________________________________________\n"
     ]
    }
   ],
   "source": [
    "model.summary()"
   ],
   "metadata": {
    "collapsed": false,
    "pycharm": {
     "name": "#%%\n"
    }
   }
  },
  {
   "cell_type": "markdown",
   "metadata": {
    "pycharm": {
     "name": "#%% md\n"
    }
   },
   "source": [
    "## Training\n",
    "\n",
    "The segmentation model is trained with 200 epoches with early stopping. Each epoch containts 100 batches and each batch contains 32 samples.\n",
    "\n",
    "*The training process here is far from systematic, and is provided for illustration purposes only.*"
   ]
  },
  {
   "cell_type": "code",
   "execution_count": 17,
   "metadata": {
    "pycharm": {
     "name": "#%%\n"
    }
   },
   "outputs": [],
   "source": [
    "def input_data_process(input_array):\n",
    "    '''converting pixel vales to [0, 1]'''\n",
    "    return input_array / 255.\n",
    "\n",
    "\n",
    "def target_data_process(target_array):\n",
    "    '''Converting human, non-human pixels into two categories.'''\n",
    "    target_array[target_array > 0] = 1  # grouping all other non-human categories\n",
    "    return keras.utils.to_categorical(target_array, num_classes=2)"
   ]
  },
  {
   "cell_type": "code",
   "execution_count": 18,
   "metadata": {
    "pycharm": {
     "name": "#%%\n"
    }
   },
   "outputs": [],
   "source": [
    "valid_input = input_data_process(utils.image_to_array(valid_input_names, size=128, channel=3))\n",
    "valid_label = target_data_process(utils.image_to_array(valid_label_names, size=128, channel=1))"
   ]
  },
  {
   "cell_type": "code",
   "execution_count": 19,
   "metadata": {
    "pycharm": {
     "name": "#%%\n"
    }
   },
   "outputs": [
    {
     "name": "stdout",
     "output_type": "stream",
     "text": [
      "\tInitial loss = 0.7699558138847351\n",
      "Validation performance is improved from 0.7699558138847351 to 0.7028995752334595\n",
      "Validation performance is improved from 0.7028995752334595 to 0.6433559656143188\n",
      "Validation performance is improved from 0.6433559656143188 to 0.5784065127372742\n",
      "Validation performance is improved from 0.5784065127372742 to 0.539142370223999\n",
      "Validation performance is improved from 0.539142370223999 to 0.5231527090072632\n",
      "Validation performance is improved from 0.5231527090072632 to 0.5181891322135925\n",
      "Validation performance is improved from 0.5181891322135925 to 0.5106982588768005\n",
      "Validation performance is improved from 0.5106982588768005 to 0.5057828426361084\n",
      "Validation performance is improved from 0.5057828426361084 to 0.5001973509788513\n",
      "Validation performance is improved from 0.5001973509788513 to 0.4992810785770416\n",
      "Validation performance is improved from 0.4992810785770416 to 0.49348872900009155\n",
      "Validation performance is improved from 0.49348872900009155 to 0.4890025556087494\n",
      "Validation performance is improved from 0.4890025556087494 to 0.4887843728065491\n",
      "Validation performance is improved from 0.4887843728065491 to 0.47941532731056213\n",
      "Validation performance is improved from 0.47941532731056213 to 0.4752771556377411\n",
      "Validation performance is improved from 0.4752771556377411 to 0.4722847640514374\n",
      "Validation performance 0.47451066970825195 is NOT improved\n",
      "Validation performance is improved from 0.4722847640514374 to 0.46411997079849243\n",
      "Validation performance is improved from 0.46411997079849243 to 0.4614582359790802\n",
      "Validation performance is improved from 0.4614582359790802 to 0.4586036205291748\n",
      "Validation performance is improved from 0.4586036205291748 to 0.4509889483451843\n",
      "Validation performance is improved from 0.4509889483451843 to 0.4480348229408264\n",
      "Validation performance is improved from 0.4480348229408264 to 0.4436340630054474\n",
      "Validation performance is improved from 0.4436340630054474 to 0.43725571036338806\n",
      "Validation performance is improved from 0.43725571036338806 to 0.43380051851272583\n",
      "Validation performance is improved from 0.43380051851272583 to 0.4308297038078308\n",
      "Validation performance is improved from 0.4308297038078308 to 0.42703384160995483\n",
      "Validation performance is improved from 0.42703384160995483 to 0.4211028814315796\n",
      "Validation performance is improved from 0.4211028814315796 to 0.41956689953804016\n",
      "Validation performance is improved from 0.41956689953804016 to 0.4167957007884979\n",
      "Validation performance is improved from 0.4167957007884979 to 0.41294363141059875\n",
      "Validation performance is improved from 0.41294363141059875 to 0.4103807806968689\n",
      "Validation performance is improved from 0.4103807806968689 to 0.40902209281921387\n",
      "Validation performance is improved from 0.40902209281921387 to 0.40660473704338074\n",
      "Validation performance is improved from 0.40660473704338074 to 0.4047784209251404\n",
      "Validation performance is improved from 0.4047784209251404 to 0.40342023968696594\n",
      "Validation performance 0.4063573479652405 is NOT improved\n",
      "Validation performance is improved from 0.40342023968696594 to 0.4007786512374878\n",
      "Validation performance 0.40146732330322266 is NOT improved\n",
      "Validation performance is improved from 0.4007786512374878 to 0.39823877811431885\n",
      "Validation performance is improved from 0.39823877811431885 to 0.3977005183696747\n",
      "Validation performance 0.400127112865448 is NOT improved\n",
      "Validation performance is improved from 0.3977005183696747 to 0.39322909712791443\n",
      "Validation performance 0.3940064311027527 is NOT improved\n",
      "Validation performance is improved from 0.39322909712791443 to 0.38941633701324463\n",
      "Validation performance 0.38951125741004944 is NOT improved\n",
      "Validation performance is improved from 0.38941633701324463 to 0.38805362582206726\n",
      "Validation performance is improved from 0.38805362582206726 to 0.3848157227039337\n",
      "Validation performance 0.38940656185150146 is NOT improved\n",
      "Validation performance is improved from 0.3848157227039337 to 0.38347187638282776\n",
      "Validation performance is improved from 0.38347187638282776 to 0.38133227825164795\n",
      "Validation performance 0.38768675923347473 is NOT improved\n",
      "Validation performance is improved from 0.38133227825164795 to 0.38111647963523865\n",
      "Validation performance 0.3832964301109314 is NOT improved\n",
      "Validation performance is improved from 0.38111647963523865 to 0.38044726848602295\n",
      "Validation performance is improved from 0.38044726848602295 to 0.37610095739364624\n",
      "Validation performance is improved from 0.37610095739364624 to 0.37480640411376953\n",
      "Validation performance is improved from 0.37480640411376953 to 0.37279537320137024\n",
      "Validation performance 0.3732231557369232 is NOT improved\n",
      "Validation performance is improved from 0.37279537320137024 to 0.37042149901390076\n",
      "Validation performance 0.3761703670024872 is NOT improved\n",
      "Validation performance 0.3758615553379059 is NOT improved\n",
      "Early stopping\n"
     ]
    }
   ],
   "source": [
    "N_epoch = 200  # number of epoches\n",
    "N_batch = 100  # number of batches per epoch\n",
    "N_sample = 32  # number of samples per batch\n",
    "\n",
    "tol = 0  # current early stopping patience\n",
    "max_tol = 2  # the max-allowed early stopping patience\n",
    "min_del = 0  # the lowest acceptable loss value reduction\n",
    "\n",
    "# loop over epoches\n",
    "for epoch in range(N_epoch):\n",
    "    # initial loss record\n",
    "    if epoch == 0:\n",
    "        y_pred = model.predict([valid_input])\n",
    "        record = np.mean(keras.losses.categorical_crossentropy(valid_label, y_pred))\n",
    "        print('\\tInitial loss = {}'.format(record))\n",
    "\n",
    "    # loop over batches\n",
    "    for step in range(N_batch):\n",
    "        # selecting smaples for the current batch\n",
    "        ind_train_shuffle = utils.shuffle_ind(L_train)[:N_sample]\n",
    "\n",
    "        # batch data formation\n",
    "        ## augmentation is not applied\n",
    "        train_input = input_data_process(\n",
    "            utils.image_to_array(train_input_names[ind_train_shuffle], size=128, channel=3))\n",
    "        train_label = target_data_process(\n",
    "            utils.image_to_array(train_label_names[ind_train_shuffle], size=128, channel=1))\n",
    "\n",
    "        # train on batch\n",
    "        loss_ = model.train_on_batch([train_input, ], [train_label, ])\n",
    "        # ** training loss is not stored ** #\n",
    "\n",
    "    # epoch-end validation\n",
    "    y_pred = model.predict([valid_input])\n",
    "    record_temp = np.mean(keras.losses.categorical_crossentropy(valid_label, y_pred))\n",
    "    # ** validation loss is not stored ** #\n",
    "\n",
    "    # if loss is reduced\n",
    "    if record - record_temp > min_del:\n",
    "        print('Validation performance is improved from {} to {}'.format(record, record_temp))\n",
    "        record = record_temp;  # update the loss record\n",
    "        tol = 0;  # refresh early stopping patience\n",
    "        # ** model checkpoint is not stored ** #\n",
    "\n",
    "    # if loss not reduced\n",
    "    else:\n",
    "        print('Validation performance {} is NOT improved'.format(record_temp))\n",
    "        tol += 1\n",
    "        if tol >= max_tol:\n",
    "            print('Early stopping')\n",
    "            break;\n",
    "        else:\n",
    "            # Pass to the next epoch\n",
    "            continue;"
   ]
  },
  {
   "cell_type": "markdown",
   "metadata": {
    "pycharm": {
     "name": "#%% md\n"
    }
   },
   "source": [
    "## Evaluation\n",
    "\n",
    "The testing set performance is evaluated with cross-entropy and example outputs."
   ]
  },
  {
   "cell_type": "code",
   "execution_count": 20,
   "metadata": {
    "pycharm": {
     "name": "#%%\n"
    }
   },
   "outputs": [],
   "source": [
    "test_input = input_data_process(utils.image_to_array(test_input_names, size=128, channel=3))\n",
    "test_label = target_data_process(utils.image_to_array(test_label_names, size=128, channel=1))"
   ]
  },
  {
   "cell_type": "code",
   "execution_count": 21,
   "metadata": {
    "pycharm": {
     "name": "#%%\n"
    }
   },
   "outputs": [],
   "source": [
    "y_pred = model.predict([test_input])"
   ]
  },
  {
   "cell_type": "code",
   "execution_count": 22,
   "metadata": {
    "pycharm": {
     "name": "#%%\n"
    }
   },
   "outputs": [
    {
     "name": "stdout",
     "output_type": "stream",
     "text": [
      "Testing set cross-entropy = 0.3868310749530792\n"
     ]
    }
   ],
   "source": [
    "print('Testing set cross-entropy = {}'.format(np.mean(keras.losses.categorical_crossentropy(test_label, y_pred))))"
   ]
  },
  {
   "cell_type": "markdown",
   "metadata": {
    "pycharm": {
     "name": "#%% md\n"
    }
   },
   "source": [
    "**Example of outputs**\n",
    "\n",
    "As a common practice in computer vision projects, only nice looking samples are plotted : |"
   ]
  },
  {
   "cell_type": "code",
   "execution_count": 31,
   "metadata": {
    "pycharm": {
     "name": "#%%\n"
    }
   },
   "outputs": [
    {
     "data": {
      "image/png": "[encoded data removed]",
      "text/plain": [
       "<Figure size 936x307.2 with 3 Axes>"
      ]
     },
     "metadata": {},
     "output_type": "display_data"
    }
   ],
   "source": [
    "i_sample = 12\n",
    "\n",
    "fig, AX = plt.subplots(1, 3, figsize=(13, (13 - 0.2) / 3))\n",
    "plt.subplots_adjust(0, 0, 1, 1, hspace=0, wspace=0.1)\n",
    "for ax in AX:\n",
    "    ax = ax_decorate_box(ax)\n",
    "AX[0].pcolormesh(np.mean(test_input[i_sample, ...,], axis=-1), cmap=plt.cm.gray)\n",
    "AX[1].pcolormesh(y_pred[i_sample, ..., 0], cmap=plt.cm.jet)\n",
    "AX[2].pcolormesh(test_label[i_sample, ..., 0], cmap=plt.cm.jet)\n",
    "\n",
    "AX[0].set_title(\"Original\", fontsize=14);\n",
    "AX[1].set_title(\"Pixels belong to human (red for high probabilities)\", fontsize=14);\n",
    "AX[2].set_title(\"Labeled truth\", fontsize=14);\n"
   ]
  }
 ],
 "metadata": {
  "kernelspec": {
   "display_name": "Python 3",
   "language": "python",
   "name": "python3"
  },
  "language_info": {
   "codemirror_mode": {
    "name": "ipython",
    "version": 3
   },
   "file_extension": ".py",
   "mimetype": "text/x-python",
   "name": "python",
   "nbconvert_exporter": "python",
   "pygments_lexer": "ipython3",
   "version": "3.6.8"
  }
 },
 "nbformat": 4,
 "nbformat_minor": 4
}