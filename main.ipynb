{
 "cells": [
  {
   "cell_type": "markdown",
   "source": [
    "# U-Net Depth (Projeto de dissertação)"
   ],
   "metadata": {
    "collapsed": false
   }
  },
  {
   "cell_type": "code",
   "execution_count": null,
   "outputs": [],
   "source": [
    "running_on_kaggle = False\n",
    "running_on_colab = False\n",
    "running_remote = running_on_kaggle or running_on_colab\n",
    "repository_name = 'unet_depth'"
   ],
   "metadata": {
    "collapsed": false
   }
  },
  {
   "cell_type": "markdown",
   "source": [
    "## Clonar e navegar para o repositório"
   ],
   "metadata": {
    "collapsed": false
   }
  },
  {
   "cell_type": "code",
   "execution_count": null,
   "outputs": [],
   "source": [
    "if running_on_colab:\n",
    "    from google.colab import drive\n",
    "    drive.mount('/content/drive')"
   ],
   "metadata": {
    "collapsed": false
   }
  },
  {
   "cell_type": "code",
   "execution_count": null,
   "outputs": [],
   "source": [
    "import os\n",
    "\n",
    "# Clone e navegue para o repositório da dissertação\n",
    "if running_remote:\n",
    "    !git clone \"https://github.com/duraes-antonio/unet_depth\"\n",
    "    !cd $repository_name\n",
    "    os.chdir(repository_name)"
   ],
   "metadata": {
    "collapsed": false
   }
  },
  {
   "cell_type": "code",
   "execution_count": null,
   "outputs": [],
   "source": [
    "!git checkout \"feat/automatizar_config_rede\""
   ],
   "metadata": {
    "collapsed": false
   }
  },
  {
   "cell_type": "code",
   "execution_count": null,
   "outputs": [],
   "source": [
    "from domain.models.network import NetworkConfig\n",
    "\n",
    "config: NetworkConfig = {\n",
    "    'size': 256,\n",
    "    'filter_min': 64,\n",
    "    'filter_max': 512,\n",
    "    'pool': True,\n",
    "    'unpool': True,\n",
    "}\n",
    "db_name = f\"{config['size']}_{config['filter_min']}-{config['filter_max']}_pool-{config['pool']}_unpool-{config['unpool']}\""
   ],
   "metadata": {
    "collapsed": false
   }
  },
  {
   "cell_type": "markdown",
   "source": [
    "## Definir variáveis de ambiente e credenciais para serviços"
   ],
   "metadata": {
    "collapsed": false
   }
  },
  {
   "cell_type": "code",
   "execution_count": null,
   "outputs": [],
   "source": [
    "!pip install pymongo[srv] dnspython keras-unet-collection python-dotenv imutils\n",
    "!pip install py-cpuinfo gpuinfo typing_extensions\n",
    "\n",
    "if not running_remote:\n",
    "    !pip install google-api-python-client google-auth-httplib2 google-auth-oauthlib"
   ],
   "metadata": {
    "collapsed": false
   }
  },
  {
   "cell_type": "code",
   "execution_count": null,
   "outputs": [],
   "source": [
    "import ast\n",
    "import json\n",
    "import dotenv\n",
    "\n",
    "if running_on_kaggle:\n",
    "    from kaggle_secrets import UserSecretsClient\n",
    "\n",
    "    user_secrets = UserSecretsClient()\n",
    "    database_url = user_secrets.get_secret(\"DATABASE_URL\")\n",
    "    google_cred_json = ast.literal_eval(user_secrets.get_secret(\"GOOGLE_CREDENTIALS_JSON\"))\n",
    "    google_token_json = ast.literal_eval(user_secrets.get_secret(\"GOOGLE_TOKEN_JSON\"))\n",
    "    os.environ[\"DATABASE_URL\"] = database_url\n",
    "    os.environ[\"DB_NAME\"] = db_name\n",
    "\n",
    "else:\n",
    "    if running_on_colab:\n",
    "        path_auth = '../drive/MyDrive/unet_depth/auth/.env'\n",
    "    else:\n",
    "        path_auth = './.env'\n",
    "\n",
    "    dotenv.load_dotenv(path_auth)\n",
    "    database_url = os.environ[\"DATABASE_URL\"]\n",
    "    google_cred_json = ast.literal_eval(os.environ[\"GOOGLE_CREDENTIALS_JSON\"])\n",
    "    google_token_json = ast.literal_eval(os.environ[\"GOOGLE_TOKEN_JSON\"])\n",
    "\n",
    "with open('google_credentials.json', 'w', encoding='utf-8') as f:\n",
    "    json.dump(google_cred_json, f, ensure_ascii=False, indent=4)\n",
    "\n",
    "with open('token.json', 'w', encoding='utf-8') as f:\n",
    "    json.dump(google_token_json, f, ensure_ascii=False, indent=4)"
   ],
   "metadata": {
    "collapsed": false
   }
  },
  {
   "cell_type": "markdown",
   "source": [
    "## Instanciar serviços para persistência de resultados e blob"
   ],
   "metadata": {
    "collapsed": false
   }
  },
  {
   "cell_type": "code",
   "execution_count": null,
   "outputs": [],
   "source": [
    "from infra.services.results_service_mongodb import ResultServiceMongoDB\n",
    "from domain.services.results_service import ResultService\n",
    "from infra.services.blob_storage.blob_storage_service_google_drive import GoogleDriveBlobStorageService\n",
    "from infra.services.model_storage_service_google_drive import ModelStorageServiceGoogleDrive\n",
    "from domain.services.model_storage_service import ModelStorageService\n",
    "from infra.services.test_case_execution_service_mongodb import TestCaseExecutionServiceMongoDB\n",
    "from infra.services.test_case_service_mongodb import TestCaseServiceMongoDB\n",
    "from domain.services.test_case_execution_service import TestCaseExecutionService\n",
    "from domain.services.blob_storage_service import BlobStorageService\n",
    "from domain.services.test_case_service import TestCaseService\n",
    "\n",
    "test_case_serv: TestCaseService = TestCaseServiceMongoDB(db_name)\n",
    "execution_serv: TestCaseExecutionService = TestCaseExecutionServiceMongoDB(db_name)\n",
    "\n",
    "blob_service: BlobStorageService = GoogleDriveBlobStorageService(db_name)\n",
    "model_storage: ModelStorageService = ModelStorageServiceGoogleDrive(blob_service)\n",
    "\n",
    "result_service: ResultService = ResultServiceMongoDB(db_name)"
   ],
   "metadata": {
    "collapsed": false
   }
  },
  {
   "cell_type": "markdown",
   "source": [
    "## Baixar dataset"
   ],
   "metadata": {
    "collapsed": false
   }
  },
  {
   "cell_type": "code",
   "execution_count": null,
   "outputs": [],
   "source": [
    "if not os.path.exists('data'):\n",
    "    !git clone \"https://gitlab.com/siddinc/new_depth.git\" \"./data\""
   ],
   "metadata": {
    "collapsed": false
   }
  },
  {
   "cell_type": "markdown",
   "source": [
    "## Executar aplicação"
   ],
   "metadata": {
    "collapsed": false
   }
  },
  {
   "cell_type": "code",
   "execution_count": null,
   "outputs": [],
   "source": [
    "from tensorflow import keras\n",
    "from infra.util.dataset import read_nyu_csv\n",
    "from infra.util.output import plot_image_comparison\n",
    "from infra.application_manager import ApplicationManager\n",
    "\n",
    "train_path = \"./data/nyu2_train.csv\"\n",
    "test_path = \"./data/nyu2_test.csv\"\n",
    "batch_size = 4\n",
    "epochs = 70\n",
    "\n",
    "# Defina a semente usada em operações como embaralhamento do dataset\n",
    "seed = 42\n",
    "\n",
    "\n",
    "# callback após avaliação em base de teste\n",
    "def after_test(model: keras.Model):\n",
    "    xy_path_pairs = read_nyu_csv(test_path)\n",
    "    return plot_image_comparison(model, xy_path_pairs)\n",
    "\n",
    "\n",
    "try:\n",
    "    application = ApplicationManager(\n",
    "        blob_service, model_storage, execution_serv,\n",
    "        test_case_serv, result_service, config, epochs\n",
    "    )\n",
    "    application.prepare_train_data(train_path, batch_size, True, seed, 1)\n",
    "    application.prepare_test_data(test_path, batch_size, True, seed)\n",
    "    application.run()\n",
    "\n",
    "except Exception as E:\n",
    "    print(E)"
   ],
   "metadata": {
    "collapsed": false
   }
  }
 ],
 "metadata": {
  "kernelspec": {
   "display_name": "Python 3",
   "language": "python",
   "name": "python3"
  },
  "language_info": {
   "codemirror_mode": {
    "name": "ipython",
    "version": 2
   },
   "file_extension": ".py",
   "mimetype": "text/x-python",
   "name": "python",
   "nbconvert_exporter": "python",
   "pygments_lexer": "ipython2",
   "version": "2.7.6"
  }
 },
 "nbformat": 4,
 "nbformat_minor": 0
}
