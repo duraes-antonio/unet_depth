{
 "cells": [
  {
   "cell_type": "markdown",
   "source": [
    "# U-Net Depth (Treinamento)"
   ],
   "metadata": {
    "collapsed": false
   }
  },
  {
   "cell_type": "code",
   "execution_count": null,
   "outputs": [],
   "source": [
    "# Dados do repositório\n",
    "repository_name = 'unet_depth'\n",
    "repository_url = 'https://github.com/duraes-antonio/unet_depth'\n",
    "branch = 'main'"
   ],
   "metadata": {
    "collapsed": false
   }
  },
  {
   "cell_type": "code",
   "execution_count": null,
   "outputs": [],
   "source": [
    "import random as native_random\n",
    "\n",
    "from numpy import random as np_random\n",
    "from tensorflow import random as tf_random\n",
    "\n",
    "# Definir semente usada em operações como embaralhamento do dataset, pelo keras e TF\n",
    "seed = 42\n",
    "\n",
    "native_random.seed(seed)\n",
    "np_random.seed(seed)\n",
    "tf_random.set_seed(seed)"
   ],
   "metadata": {
    "collapsed": false
   }
  },
  {
   "cell_type": "markdown",
   "source": [
    "## Clonar e navegar para o repositório"
   ],
   "metadata": {
    "collapsed": false
   }
  },
  {
   "cell_type": "code",
   "execution_count": null,
   "outputs": [],
   "source": [
    "import os\n",
    "\n",
    "# Se o diretório pai for o repositório é porque está executando local\n",
    "running_remote = not os.path.isdir('../unet_depth')\n",
    "\n",
    "if running_remote:\n",
    "    !git clone $repository_url\n",
    "    !cd $repository_name\n",
    "    os.chdir(repository_name)"
   ],
   "metadata": {
    "collapsed": false
   }
  },
  {
   "cell_type": "code",
   "execution_count": null,
   "outputs": [],
   "source": [
    "!git checkout $branch\n",
    "!git pull"
   ],
   "metadata": {
    "collapsed": false
   }
  },
  {
   "cell_type": "markdown",
   "source": [
    "## Instalar dependências"
   ],
   "metadata": {
    "collapsed": false
   }
  },
  {
   "cell_type": "code",
   "execution_count": null,
   "outputs": [],
   "source": [
    "!pip install pymongo[srv] dnspython keras-unet-collection python-dotenv imutils\n",
    "!pip install py-cpuinfo gpuinfo typing_extensions\n",
    "\n",
    "if not running_remote:\n",
    "    !pip install google-api-python-client google-auth-httplib2 google-auth-oauthlib"
   ],
   "metadata": {
    "collapsed": false
   }
  },
  {
   "cell_type": "markdown",
   "source": [
    "## Preparar variáveis de acordo com ambiente de execução"
   ],
   "metadata": {
    "collapsed": false
   }
  },
  {
   "cell_type": "code",
   "execution_count": null,
   "outputs": [],
   "source": [
    "from infra.consts.environment import Environment\n",
    "\n",
    "env = Environment.KAGGLE"
   ],
   "metadata": {
    "collapsed": false
   }
  },
  {
   "cell_type": "code",
   "execution_count": null,
   "outputs": [],
   "source": [
    "if env is Environment.COLAB:\n",
    "    from google.colab import drive\n",
    "\n",
    "    drive.mount('/content/drive')"
   ],
   "metadata": {
    "collapsed": false
   }
  },
  {
   "cell_type": "code",
   "execution_count": null,
   "outputs": [],
   "source": [
    "from infra.util.environment_vars import get_env_vars\n",
    "import json\n",
    "\n",
    "env_vars = get_env_vars(env)\n",
    "os.environ[\"DATABASE_URL\"] = env_vars['database_url']\n",
    "\n",
    "with open('google_credentials.json', 'w', encoding='utf-8') as f:\n",
    "    json.dump(env_vars['google_credentials'], f, ensure_ascii=False, indent=4)\n",
    "\n",
    "with open('token.json', 'w', encoding='utf-8') as f:\n",
    "    json.dump(env_vars['google_token'], f, ensure_ascii=False, indent=4)"
   ],
   "metadata": {
    "collapsed": false
   }
  },
  {
   "cell_type": "markdown",
   "source": [
    "## Instanciar serviços para persistência de resultados e blob"
   ],
   "metadata": {
    "collapsed": false
   }
  },
  {
   "cell_type": "code",
   "execution_count": null,
   "outputs": [],
   "source": [
    "from infra.util.mongodb import build_db_name\n",
    "from domain.models.network import NetworkConfig\n",
    "\n",
    "config: NetworkConfig = {\n",
    "    'size': 256,\n",
    "    'filter_min': 64,\n",
    "    'filter_max': 512,\n",
    "    'pool': True,\n",
    "    'unpool': True,\n",
    "}\n",
    "db_name = build_db_name(config)"
   ],
   "metadata": {
    "collapsed": false,
    "pycharm": {
     "is_executing": true
    }
   }
  },
  {
   "cell_type": "code",
   "execution_count": null,
   "outputs": [],
   "source": [
    "from infra.services.results_service_mongodb import ResultServiceMongoDB\n",
    "from domain.services.results_service import ResultService\n",
    "from infra.services.blob_storage.blob_storage_service_google_drive import GoogleDriveBlobStorageService\n",
    "from infra.services.model_storage_service_google_drive import ModelStorageServiceGoogleDrive\n",
    "from domain.services.model_storage_service import ModelStorageService\n",
    "from infra.services.test_case_execution_service_mongodb import TestCaseExecutionServiceMongoDB\n",
    "from infra.services.test_case_service_mongodb import TestCaseServiceMongoDB\n",
    "from domain.services.test_case_execution_service import TestCaseExecutionService\n",
    "from domain.services.blob_storage_service import BlobStorageService\n",
    "from domain.services.test_case_service import TestCaseService\n",
    "\n",
    "test_case_serv: TestCaseService = TestCaseServiceMongoDB(db_name)\n",
    "execution_serv: TestCaseExecutionService = TestCaseExecutionServiceMongoDB(db_name)\n",
    "\n",
    "blob_service: BlobStorageService = GoogleDriveBlobStorageService(db_name)\n",
    "model_storage: ModelStorageService = ModelStorageServiceGoogleDrive(blob_service)\n",
    "\n",
    "result_service: ResultService = ResultServiceMongoDB(db_name)"
   ],
   "metadata": {
    "collapsed": false
   }
  },
  {
   "cell_type": "markdown",
   "source": [
    "## Baixar dataset"
   ],
   "metadata": {
    "collapsed": false
   }
  },
  {
   "cell_type": "code",
   "execution_count": null,
   "outputs": [],
   "source": [
    "if not os.path.exists('data'):\n",
    "    !git clone \"https://gitlab.com/siddinc/new_depth.git\" \"./data\""
   ],
   "metadata": {
    "collapsed": false
   }
  },
  {
   "cell_type": "markdown",
   "source": [
    "## Executar aplicação"
   ],
   "metadata": {
    "collapsed": false
   }
  },
  {
   "cell_type": "code",
   "execution_count": null,
   "outputs": [],
   "source": [
    "from infra.application_manager import ApplicationManager\n",
    "\n",
    "train_path = \"./data/nyu2_train.csv\"\n",
    "test_path = \"./data/nyu2_test.csv\"\n",
    "batch_size = 4\n",
    "epochs = 70\n",
    "\n",
    "try:\n",
    "    application = ApplicationManager(\n",
    "        blob_service, model_storage, execution_serv,\n",
    "        test_case_serv, result_service, config, epochs\n",
    "    )\n",
    "    application.prepare_train_data(train_path, batch_size, True, seed, 1)\n",
    "    application.prepare_test_data(test_path, batch_size, True, seed)\n",
    "    application.run()\n",
    "\n",
    "except Exception as E:\n",
    "    print(E)"
   ],
   "metadata": {
    "collapsed": false
   }
  }
 ],
 "metadata": {
  "kernelspec": {
   "display_name": "Python 3",
   "language": "python",
   "name": "python3"
  },
  "language_info": {
   "codemirror_mode": {
    "name": "ipython",
    "version": 2
   },
   "file_extension": ".py",
   "mimetype": "text/x-python",
   "name": "python",
   "nbconvert_exporter": "python",
   "pygments_lexer": "ipython2",
   "version": "2.7.6"
  }
 },
 "nbformat": 4,
 "nbformat_minor": 0
}
